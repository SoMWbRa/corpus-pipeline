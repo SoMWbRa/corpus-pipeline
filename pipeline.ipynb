{
 "cells": [
  {
   "cell_type": "code",
   "execution_count": 2,
   "id": "initial_id",
   "metadata": {
    "collapsed": true,
    "ExecuteTime": {
     "end_time": "2025-03-25T14:00:01.895405Z",
     "start_time": "2025-03-25T14:00:00.784080Z"
    }
   },
   "outputs": [
    {
     "name": "stdout",
     "output_type": "stream",
     "text": [
      "Processing: Як росіяни збирають інформацію про військовослужбовців з Полтавщини\n",
      "Finished: Як росіяни збирають інформацію про військовослужбовців з Полтавщини\n",
      "Processing: Найбільші країни ЄС не підтримують пропозицію виділити 20 млрд пакет допомоги Україні — топдипломат ЄС\n",
      "Finished: Найбільші країни ЄС не підтримують пропозицію виділити 20 млрд пакет допомоги Україні — топдипломат ЄС\n",
      "Processing: Весняний ярмарок, день відкритих дверей і виготовлення окопних свічок: куди піти в Миколаєві вихідними\n",
      "Finished: Весняний ярмарок, день відкритих дверей і виготовлення окопних свічок: куди піти в Миколаєві вихідними\n"
     ]
    }
   ],
   "source": [
    "from sources.normalizer.news_normalizer import NewsNormalizer\n",
    "from sources.saver.file_saver import FileSaver\n",
    "from sources.annotator.xml_annotator import XMLAnnotator\n",
    "from sources.source.suspilne_source import SuspilneSource\n",
    "from sources.parser.suspilne_parser import SuspilneParser\n",
    "\n",
    "corpus_path = \"corpus\"\n",
    "\n",
    "for record in SuspilneSource.records():\n",
    "    title = record.metadata.title\n",
    "    \n",
    "    print(f\"Processing: {title}\")\n",
    "    content = record.content()\n",
    "\n",
    "    annotator = XMLAnnotator()\n",
    "    document = SuspilneParser.parse(content, metadata=record.metadata,annotator=annotator)\n",
    "    base_text = annotator.get_string(document)\n",
    "    \n",
    "    saver = FileSaver(path=f\"{corpus_path}/base\")\n",
    "    saver.save(base_text, name=f\"{title}.txt\")\n",
    "    \n",
    "    warnings = []\n",
    "    errors = []\n",
    "    \n",
    "    def normalize(text: str) -> str:\n",
    "        new_text, new_warnings, new_errors = NewsNormalizer.normalize(text)\n",
    "\n",
    "        warnings.extend(new_warnings)\n",
    "        errors.extend(new_errors)\n",
    "        \n",
    "        return new_text\n",
    "    \n",
    "    document = annotator.update_elements(document, normalize)\n",
    "    \n",
    "    annotator.add_warnings(document, warnings)\n",
    "    annotator.add_errors(document, errors)\n",
    "    normalized_text = annotator.get_string(document)\n",
    "\n",
    "    saver = FileSaver(path=f\"{corpus_path}/normalized\")\n",
    "    saver.save(normalized_text, name=f\"{title}.txt\")\n",
    "    \n",
    "    \n",
    "    print(f\"Finished: {title}\")\n",
    "\n",
    "\n",
    "\n"
   ]
  },
  {
   "cell_type": "code",
   "outputs": [],
   "source": [],
   "metadata": {
    "collapsed": false
   },
   "id": "172325d1ff435ac9"
  }
 ],
 "metadata": {
  "kernelspec": {
   "display_name": "Python 3",
   "language": "python",
   "name": "python3"
  },
  "language_info": {
   "codemirror_mode": {
    "name": "ipython",
    "version": 2
   },
   "file_extension": ".py",
   "mimetype": "text/x-python",
   "name": "python",
   "nbconvert_exporter": "python",
   "pygments_lexer": "ipython2",
   "version": "2.7.6"
  }
 },
 "nbformat": 4,
 "nbformat_minor": 5
}
