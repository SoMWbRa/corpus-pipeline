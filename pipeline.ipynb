{
 "cells": [
  {
   "cell_type": "code",
   "execution_count": 1,
   "id": "initial_id",
   "metadata": {
    "collapsed": true,
    "ExecuteTime": {
     "end_time": "2025-03-25T13:00:36.629757Z",
     "start_time": "2025-03-25T13:00:35.173356Z"
    }
   },
   "outputs": [
    {
     "name": "stdout",
     "output_type": "stream",
     "text": [
      "Processing: Як росіяни збирають інформацію про військовослужбовців з Полтавщини\n",
      "Finished: Як росіяни збирають інформацію про військовослужбовців з Полтавщини\n",
      "Processing: Найбільші країни ЄС не підтримують пропозицію виділити 20 млрд пакет допомоги Україні — топдипломат ЄС\n",
      "Finished: Найбільші країни ЄС не підтримують пропозицію виділити 20 млрд пакет допомоги Україні — топдипломат ЄС\n",
      "Processing: Весняний ярмарок, день відкритих дверей і виготовлення окопних свічок: куди піти в Миколаєві вихідними\n",
      "Finished: Весняний ярмарок, день відкритих дверей і виготовлення окопних свічок: куди піти в Миколаєві вихідними\n"
     ]
    }
   ],
   "source": [
    "import os\n",
    "\n",
    "from sources.saver.file_saver import FileSaver\n",
    "from sources.parser.suspilne_parser import SuspilneParser\n",
    "from sources.annotator.xml_annotator import XMLAnnotator\n",
    "from sources.source.suspilne_source import SuspilneSource\n",
    "\n",
    "saver = FileSaver(path=\"corpus\")\n",
    "\n",
    "for record in SuspilneSource.records():\n",
    "    print(f\"Processing: {record.metadata.title}\")\n",
    "    content = record.content()\n",
    "\n",
    "    annotator = XMLAnnotator()\n",
    "    document = SuspilneParser.parse(content, metadata=record.metadata,annotator=annotator)\n",
    "    text = annotator.get_string(document)\n",
    "\n",
    "    saver.save(text, name=record.metadata.title)\n",
    "    print(f\"Finished: {record.metadata.title}\")\n",
    "\n",
    "\n",
    "\n"
   ]
  },
  {
   "cell_type": "code",
   "outputs": [],
   "source": [],
   "metadata": {
    "collapsed": false
   },
   "id": "172325d1ff435ac9"
  }
 ],
 "metadata": {
  "kernelspec": {
   "display_name": "Python 3",
   "language": "python",
   "name": "python3"
  },
  "language_info": {
   "codemirror_mode": {
    "name": "ipython",
    "version": 2
   },
   "file_extension": ".py",
   "mimetype": "text/x-python",
   "name": "python",
   "nbconvert_exporter": "python",
   "pygments_lexer": "ipython2",
   "version": "2.7.6"
  }
 },
 "nbformat": 4,
 "nbformat_minor": 5
}
