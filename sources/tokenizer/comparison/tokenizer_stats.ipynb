{
 "cells": [
  {
   "cell_type": "code",
   "outputs": [
    {
     "name": "stdout",
     "output_type": "stream",
     "text": [
      "Table saved to tokenization_results.csv\n",
      "Results:\n",
      "Custom Tokenizer: 25/26 (96.15%)\n",
      "spacy: 14/26 (53.85%)\n"
     ]
    }
   ],
   "source": [
    "import csv\n",
    "\n",
    "from sources.tokenizer.custom_tokenizer import CustomTokenizer\n",
    "from sources.tokenizer.comparison.lang_tokenizer import LangTokenizer\n",
    "from sources.tokenizer.comparison.spacy_tokenizer import SpacyTokenizer\n",
    "from sources.tokenizer.comparison.ntlk_tokenizer import NTLKTokenizer\n",
    "from sources.tokenizer.comparison.language_tool.language_tool_tokenizer import LanguageToolTokenizer\n",
    "\n",
    "\n",
    "tokens = [\n",
    "    \"будь-який\",\n",
    "    \"бозна-що\",\n",
    "    \"2022-му\",\n",
    "    \"№11\",\n",
    "    \"22:37\",\n",
    "    \"18.05.2021\",\n",
    "    \"15-21\",\n",
    "    \"37-річна\",\n",
    "    \"rename@city.kharkiv.ua\",\n",
    "    \"+38 (095) 568 38 77\",\n",
    "    \"$1,461\",\n",
    "    \"-21°С\",\n",
    "    \"-11\",\n",
    "    \"м.\",\n",
    "    \"вул.\",\n",
    "    \"пл.\",\n",
    "    \"ред.\",\n",
    "    \"під'їздів\",\n",
    "    \"№3,4\",\n",
    "    \"№1-4\",\n",
    "    \"м/с\",\n",
    "    \"234,5\",\n",
    "    \"м²\",\n",
    "    \"~100\",\n",
    "    \"км²/місяць\",\n",
    "    \"1 000 000\",\n",
    "]\n",
    "\n",
    "tokenizers = [\n",
    "    CustomTokenizer(),\n",
    "    # LangTokenizer(),\n",
    "    SpacyTokenizer(),\n",
    "    # NTLKTokenizer(),\n",
    "    # LanguageToolTokenizer(),\n",
    "]\n",
    "\n",
    "divider = \"|\"\n",
    "input_text = f\" {divider} \".join(tokens)\n",
    "\n",
    "\n",
    "results = {tokenizer.name(): tokenizer.tokenize(input_text) for tokenizer in tokenizers}\n",
    "\n",
    "table = []\n",
    "header = [\"Expected\"] + list(results.keys())\n",
    "correct_counts = {name: 0 for name in results}\n",
    "\n",
    "for expected_token in tokens:\n",
    "    row = [expected_token]\n",
    "\n",
    "    for name, tokenized in results.items():\n",
    "        found_tokens = []\n",
    "        while tokenized:\n",
    "            token = tokenized.pop(0)\n",
    "            if token == divider:\n",
    "                break \n",
    "\n",
    "            found_tokens.append(token)\n",
    "\n",
    "        if len(found_tokens) == 1 and found_tokens[0] == expected_token:\n",
    "            row.append(\"-\")\n",
    "            correct_counts[name] += 1\n",
    "        else:\n",
    "            row.append(\" \".join(found_tokens))\n",
    "\n",
    "    table.append(row)\n",
    "\n",
    "total_tokens = len(tokens)\n",
    "accuracy_row = [\"Results\"] + [\n",
    "    f\"{(correct_counts[name] / total_tokens) * 100:.2f}%\" for name in results\n",
    "]\n",
    "table.append(accuracy_row)\n",
    "\n",
    "\n",
    "csv_filename = \"tokenization_results.csv\"\n",
    "\n",
    "with open(csv_filename, mode=\"w\", newline=\"\", encoding=\"utf-8\") as file:\n",
    "    writer = csv.writer(file)\n",
    "    writer.writerow(header)\n",
    "    writer.writerows(table)\n",
    "\n",
    "print(f\"Table saved to {csv_filename}\")\n",
    "\n",
    "print(\"Results:\")\n",
    "for name, correct_count in correct_counts.items():\n",
    "    print(f\"{name}: {correct_count}/{total_tokens} ({(correct_count / total_tokens) * 100:.2f}%)\")\n",
    "\n",
    "\n",
    "\n"
   ],
   "metadata": {
    "collapsed": false,
    "ExecuteTime": {
     "end_time": "2025-05-22T07:28:42.845488Z",
     "start_time": "2025-05-22T07:28:36.589932Z"
    }
   },
   "id": "6aeec091a1b91d5a",
   "execution_count": 1
  },
  {
   "cell_type": "code",
   "outputs": [],
   "source": [],
   "metadata": {
    "collapsed": false,
    "ExecuteTime": {
     "end_time": "2025-04-02T10:03:35.854467Z",
     "start_time": "2025-04-02T10:03:35.853198Z"
    }
   },
   "id": "b70b6c30d626375e",
   "execution_count": 1
  },
  {
   "cell_type": "code",
   "outputs": [],
   "source": [],
   "metadata": {
    "collapsed": false
   },
   "id": "17c07f0a64e97b8e"
  }
 ],
 "metadata": {
  "kernelspec": {
   "display_name": "Python 3",
   "language": "python",
   "name": "python3"
  },
  "language_info": {
   "codemirror_mode": {
    "name": "ipython",
    "version": 2
   },
   "file_extension": ".py",
   "mimetype": "text/x-python",
   "name": "python",
   "nbconvert_exporter": "python",
   "pygments_lexer": "ipython2",
   "version": "2.7.6"
  }
 },
 "nbformat": 4,
 "nbformat_minor": 5
}
